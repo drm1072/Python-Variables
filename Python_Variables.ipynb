{
  "nbformat": 4,
  "nbformat_minor": 0,
  "metadata": {
    "colab": {
      "name": "Python Variables.ipynb",
      "provenance": [],
      "authorship_tag": "ABX9TyM8X+jHjbzVmh+XXlut8Ci4",
      "include_colab_link": true
    },
    "kernelspec": {
      "name": "python3",
      "display_name": "Python 3"
    },
    "language_info": {
      "name": "python"
    }
  },
  "cells": [
    {
      "cell_type": "markdown",
      "metadata": {
        "id": "view-in-github",
        "colab_type": "text"
      },
      "source": [
        "<a href=\"https://colab.research.google.com/github/drm1072/Python-Variables/blob/main/Python_Variables.ipynb\" target=\"_parent\"><img src=\"https://colab.research.google.com/assets/colab-badge.svg\" alt=\"Open In Colab\"/></a>"
      ]
    },
    {
      "cell_type": "code",
      "metadata": {
        "colab": {
          "base_uri": "https://localhost:8080/",
          "height": 35
        },
        "id": "Q2vUag4Sx-0M",
        "outputId": "8772d7ec-d8b7-4c44-9c76-78fa4e30950c"
      },
      "source": [
        "#Capitalized first letter \n",
        "#The comment above is my main commment  \n",
        "'dadrian'.capitalize()\n"
      ],
      "execution_count": null,
      "outputs": [
        {
          "output_type": "execute_result",
          "data": {
            "application/vnd.google.colaboratory.intrinsic+json": {
              "type": "string"
            },
            "text/plain": [
              "'Dadrian'"
            ]
          },
          "metadata": {
            "tags": []
          },
          "execution_count": 5
        }
      ]
    },
    {
      "cell_type": "code",
      "metadata": {
        "colab": {
          "base_uri": "https://localhost:8080/",
          "height": 35
        },
        "id": "UL7Mlgq1zflp",
        "outputId": "6a01b082-280e-4da5-8156-a4668528e515"
      },
      "source": [
        "#this makes all letters lower case\n",
        "'Dadrian'.lower()"
      ],
      "execution_count": null,
      "outputs": [
        {
          "output_type": "execute_result",
          "data": {
            "application/vnd.google.colaboratory.intrinsic+json": {
              "type": "string"
            },
            "text/plain": [
              "'dadrian'"
            ]
          },
          "metadata": {
            "tags": []
          },
          "execution_count": 6
        }
      ]
    },
    {
      "cell_type": "code",
      "metadata": {
        "colab": {
          "base_uri": "https://localhost:8080/"
        },
        "id": "xXpu1kgp1iZL",
        "outputId": "ffae2ff3-6dfd-4179-91ff-23e9ac13e607"
      },
      "source": [
        "#Tells us all characters are numbers\n",
        "'1337'.isdecimal()"
      ],
      "execution_count": null,
      "outputs": [
        {
          "output_type": "execute_result",
          "data": {
            "text/plain": [
              "True"
            ]
          },
          "metadata": {
            "tags": []
          },
          "execution_count": 7
        }
      ]
    },
    {
      "cell_type": "code",
      "metadata": {
        "colab": {
          "base_uri": "https://localhost:8080/"
        },
        "id": "dUZDaX8T1xHK",
        "outputId": "07060ef1-dd4c-4bc4-aefc-db825c181991"
      },
      "source": [
        "#this command tells us that everything is letters\n",
        "'Dadrian'.isalpha()"
      ],
      "execution_count": null,
      "outputs": [
        {
          "output_type": "execute_result",
          "data": {
            "text/plain": [
              "True"
            ]
          },
          "metadata": {
            "tags": []
          },
          "execution_count": 8
        }
      ]
    },
    {
      "cell_type": "code",
      "metadata": {
        "colab": {
          "base_uri": "https://localhost:8080/"
        },
        "id": "znswEN3F2DXK",
        "outputId": "b846d9ae-95e5-46b5-a75c-5a78640ac2a7"
      },
      "source": [
        "#/tab or the little t is the tab function \"tmodel\"\n",
        "#/n or the little nHonda is for newline\n",
        "# and /t for tab\n",
        "Vehicles = 'CAR\\tmake\\nToyota\\tVW\\naudi\\tcivic\\njaguar'\n",
        "print(Vehicles)"
      ],
      "execution_count": null,
      "outputs": [
        {
          "output_type": "stream",
          "text": [
            "CAR\tmake\n",
            "Toyota\tVW\n",
            "audi\tcivic\n",
            "jaguar\n"
          ],
          "name": "stdout"
        }
      ]
    },
    {
      "cell_type": "code",
      "metadata": {
        "colab": {
          "base_uri": "https://localhost:8080/"
        },
        "id": "GIW3SejH3L2y",
        "outputId": "bef5ec2d-252c-4bbf-b79b-f08d6326898a"
      },
      "source": [
        "#The exponent * operator is used to repeat\n",
        "print('Dadrian'*15)"
      ],
      "execution_count": null,
      "outputs": [
        {
          "output_type": "stream",
          "text": [
            "DadrianDadrianDadrianDadrianDadrianDadrianDadrianDadrianDadrianDadrianDadrianDadrianDadrianDadrianDadrian\n"
          ],
          "name": "stdout"
        }
      ]
    },
    {
      "cell_type": "code",
      "metadata": {
        "colab": {
          "base_uri": "https://localhost:8080/"
        },
        "id": "V2fzYlRe38hs",
        "outputId": "9b72df74-c8ed-4db0-911c-7838811029ab"
      },
      "source": [
        "print('2'+'5')"
      ],
      "execution_count": null,
      "outputs": [
        {
          "output_type": "stream",
          "text": [
            "25\n"
          ],
          "name": "stdout"
        }
      ]
    },
    {
      "cell_type": "code",
      "metadata": {
        "colab": {
          "base_uri": "https://localhost:8080/"
        },
        "id": "1JDkoooq4fg7",
        "outputId": "b240f2f7-9e06-40f8-8846-cc02db1315b6"
      },
      "source": [
        "#lets explore booleans\n",
        "print(bool)"
      ],
      "execution_count": null,
      "outputs": [
        {
          "output_type": "stream",
          "text": [
            "<class 'bool'>\n"
          ],
          "name": "stdout"
        }
      ]
    },
    {
      "cell_type": "code",
      "metadata": {
        "colab": {
          "base_uri": "https://localhost:8080/"
        },
        "id": "x4fE46R34qjp",
        "outputId": "7f0a0d02-8703-4016-ae14-173ef5cdf90b"
      },
      "source": [
        "#booleans will always give you true for intergers and strings\n",
        "print(bool(33))"
      ],
      "execution_count": null,
      "outputs": [
        {
          "output_type": "stream",
          "text": [
            "True\n"
          ],
          "name": "stdout"
        }
      ]
    },
    {
      "cell_type": "code",
      "metadata": {
        "colab": {
          "base_uri": "https://localhost:8080/"
        },
        "id": "6GnXwe364-JL",
        "outputId": "0e8c4a1e-a3b6-4d29-c8b0-eab8ab4ac297"
      },
      "source": [
        "print(bool(45))"
      ],
      "execution_count": null,
      "outputs": [
        {
          "output_type": "stream",
          "text": [
            "True\n"
          ],
          "name": "stdout"
        }
      ]
    },
    {
      "cell_type": "code",
      "metadata": {
        "colab": {
          "base_uri": "https://localhost:8080/"
        },
        "id": "Gn7DkTSj6Hnp",
        "outputId": "08de91cd-fb29-4296-f491-5a14545a3073"
      },
      "source": [
        "#Les explore Booleans\n",
        "print(bool)"
      ],
      "execution_count": null,
      "outputs": [
        {
          "output_type": "stream",
          "text": [
            "<class 'bool'>\n"
          ],
          "name": "stdout"
        }
      ]
    },
    {
      "cell_type": "code",
      "metadata": {
        "id": "lA58so5a5H_i",
        "colab": {
          "base_uri": "https://localhost:8080/"
        },
        "outputId": "fbb3ed3f-02cb-436e-e491-3b2948badc30"
      },
      "source": [
        "#booleans will basically always give you True for regular intergers and strings\n",
        "print(bool(33))"
      ],
      "execution_count": null,
      "outputs": [
        {
          "output_type": "stream",
          "text": [
            "True\n"
          ],
          "name": "stdout"
        }
      ]
    },
    {
      "cell_type": "code",
      "metadata": {
        "colab": {
          "base_uri": "https://localhost:8080/"
        },
        "id": "Ga1LCqiG63F2",
        "outputId": "7980b340-ce51-4ecb-a240-40b381403d65"
      },
      "source": [
        "print(-3)"
      ],
      "execution_count": null,
      "outputs": [
        {
          "output_type": "stream",
          "text": [
            "-3\n"
          ],
          "name": "stdout"
        }
      ]
    },
    {
      "cell_type": "code",
      "metadata": {
        "colab": {
          "base_uri": "https://localhost:8080/"
        },
        "id": "E4zMY-sG7ChG",
        "outputId": "295f6e80-8850-42a2-d7f3-4bf359ff8e56"
      },
      "source": [
        "print(bool(-3))"
      ],
      "execution_count": null,
      "outputs": [
        {
          "output_type": "stream",
          "text": [
            "True\n"
          ],
          "name": "stdout"
        }
      ]
    },
    {
      "cell_type": "code",
      "metadata": {
        "colab": {
          "base_uri": "https://localhost:8080/"
        },
        "id": "eN0FwgWd7LaN",
        "outputId": "ef70002c-136d-471a-97b4-a1723bc975e3"
      },
      "source": [
        "print(bool(\"Dadrian\"))"
      ],
      "execution_count": null,
      "outputs": [
        {
          "output_type": "stream",
          "text": [
            "True\n"
          ],
          "name": "stdout"
        }
      ]
    },
    {
      "cell_type": "code",
      "metadata": {
        "colab": {
          "base_uri": "https://localhost:8080/"
        },
        "id": "NdFH8zRl7SUO",
        "outputId": "4ec2bc8b-2dd7-4d57-a225-fbd8075103ba"
      },
      "source": [
        "#You start to run into false when you use 0''\n",
        "print(bool(0))"
      ],
      "execution_count": null,
      "outputs": [
        {
          "output_type": "stream",
          "text": [
            "False\n"
          ],
          "name": "stdout"
        }
      ]
    },
    {
      "cell_type": "code",
      "metadata": {
        "colab": {
          "base_uri": "https://localhost:8080/"
        },
        "id": "EMlVtkSU7gY1",
        "outputId": "2731f69f-c65c-466a-ad5f-10ad9d948379"
      },
      "source": [
        "print(True or \"lose\")"
      ],
      "execution_count": null,
      "outputs": [
        {
          "output_type": "stream",
          "text": [
            "True\n"
          ],
          "name": "stdout"
        }
      ]
    },
    {
      "cell_type": "code",
      "metadata": {
        "colab": {
          "base_uri": "https://localhost:8080/"
        },
        "id": "o8hnwIBs8Otd",
        "outputId": "e4470d23-2cad-420a-c926-bb6a54134a24"
      },
      "source": [
        "print(True or \"win\")"
      ],
      "execution_count": null,
      "outputs": [
        {
          "output_type": "stream",
          "text": [
            "True\n"
          ],
          "name": "stdout"
        }
      ]
    },
    {
      "cell_type": "code",
      "metadata": {
        "colab": {
          "base_uri": "https://localhost:8080/"
        },
        "id": "HazhPie68YIM",
        "outputId": "351ee22a-46d2-45cc-ac0b-2287b48b71ef"
      },
      "source": [
        "print(True or \"nothing\")"
      ],
      "execution_count": null,
      "outputs": [
        {
          "output_type": "stream",
          "text": [
            "True\n"
          ],
          "name": "stdout"
        }
      ]
    },
    {
      "cell_type": "code",
      "metadata": {
        "colab": {
          "base_uri": "https://localhost:8080/"
        },
        "id": "AEU9wcO18dkc",
        "outputId": "701a8316-aff0-46f8-f984-c17488615d17"
      },
      "source": [
        "print('' or 0)"
      ],
      "execution_count": null,
      "outputs": [
        {
          "output_type": "stream",
          "text": [
            "0\n"
          ],
          "name": "stdout"
        }
      ]
    },
    {
      "cell_type": "code",
      "metadata": {
        "colab": {
          "base_uri": "https://localhost:8080/"
        },
        "id": "E4FwB68R8vuh",
        "outputId": "f6b5e34d-7ebf-4850-cdf3-8a459dd0687e"
      },
      "source": [
        "print(0 or True)"
      ],
      "execution_count": null,
      "outputs": [
        {
          "output_type": "stream",
          "text": [
            "True\n"
          ],
          "name": "stdout"
        }
      ]
    },
    {
      "cell_type": "code",
      "metadata": {
        "colab": {
          "base_uri": "https://localhost:8080/"
        },
        "id": "Jqfm6OW28534",
        "outputId": "2d001217-d903-4ed6-d7ef-d83539dde563"
      },
      "source": [
        "#Here we use \"not\" to evaluate and return the booleon opposite of\n",
        "#same experessions.\n",
        "print(not True) #FALSE\n",
        "print(not False) #TRUE\n",
        "print(not 4) #NOT A STRING\n",
        "print(not 0) #FALSE because it it a 0"
      ],
      "execution_count": null,
      "outputs": [
        {
          "output_type": "stream",
          "text": [
            "False\n",
            "True\n",
            "False\n",
            "True\n"
          ],
          "name": "stdout"
        }
      ]
    },
    {
      "cell_type": "code",
      "metadata": {
        "id": "ECU__gax98Zh"
      },
      "source": [
        "#Let's create a function step by step.\n",
        "def Bank(Company):\n",
        "    Company = Company or 'Interesting'\n",
        "    return \"I love that\" + Company\n",
        "    "
      ],
      "execution_count": null,
      "outputs": []
    },
    {
      "cell_type": "code",
      "metadata": {
        "colab": {
          "base_uri": "https://localhost:8080/"
        },
        "id": "cua-r8vvrk83",
        "outputId": "49c99c88-83e9-45f5-bf36-63bc21a93b63"
      },
      "source": [
        "#lets add some if, elif, else statements to the bunch\n",
        "def Bank_admin(user):\n",
        "  if user == \"One United\":\n",
        "      return\"My Favorite Bank is One United\"\n",
        "  elif user == \"Bank of America\":\n",
        "      return \"I love that bank also\"\n",
        "  elif user == \"Wells Fargo\":\n",
        "      return \"I have heard not so good things in the news\"\n",
        "  else:\n",
        "      return \"We have never heard of your bank, Apologies\"\n",
        "\n",
        "print(Bank_admin(\"One United\"))  "
      ],
      "execution_count": null,
      "outputs": [
        {
          "output_type": "stream",
          "text": [
            "My Favorite Bank is One United\n"
          ],
          "name": "stdout"
        }
      ]
    },
    {
      "cell_type": "code",
      "metadata": {
        "id": "D87jpx8Uu0_P"
      },
      "source": [
        ""
      ],
      "execution_count": null,
      "outputs": []
    },
    {
      "cell_type": "code",
      "metadata": {
        "colab": {
          "base_uri": "https://localhost:8080/"
        },
        "id": "lkFe-fEyu7yb",
        "outputId": "6a3a4c7f-e5ac-48df-a44f-702a8295d352"
      },
      "source": [
        "#lets add some if, elif, else statements to the bunch\n",
        "def Bank_admin(user):\n",
        "  if user == \"One United\":\n",
        "      return\"My Favorite Bank is One United\"\n",
        "  elif user == \"Bank of America\":\n",
        "      return \"I love that bank also\"\n",
        "  elif user == \"Wells Fargo\":\n",
        "      return \"I have heard not so good things in the news\"\n",
        "  else:\n",
        "      return \"We have never heard of your bank, Apologies\"\n",
        "\n",
        "print(Bank_admin(\"Wells Fargo\"))  "
      ],
      "execution_count": null,
      "outputs": [
        {
          "output_type": "stream",
          "text": [
            "I have heard not so good things in the news\n"
          ],
          "name": "stdout"
        }
      ]
    },
    {
      "cell_type": "code",
      "metadata": {
        "id": "lw_CvqBmzMNV"
      },
      "source": [
        "#Pick a variable name\n",
        "#Pick your favorite website\n",
        "Namethisvariable = \"WWW.Youtube.com\"\n"
      ],
      "execution_count": null,
      "outputs": []
    },
    {
      "cell_type": "code",
      "metadata": {
        "colab": {
          "base_uri": "https://localhost:8080/",
          "height": 35
        },
        "id": "bPIfTpm9uBtd",
        "outputId": "aca7e6be-65c4-4c52-c433-dde7631df146"
      },
      "source": [
        "Namethisvariable"
      ],
      "execution_count": null,
      "outputs": [
        {
          "output_type": "execute_result",
          "data": {
            "application/vnd.google.colaboratory.intrinsic+json": {
              "type": "string"
            },
            "text/plain": [
              "'WWW.Youtube.com'"
            ]
          },
          "metadata": {
            "tags": []
          },
          "execution_count": 31
        }
      ]
    },
    {
      "cell_type": "code",
      "metadata": {
        "colab": {
          "base_uri": "https://localhost:8080/"
        },
        "id": "8L589dSvuvdz",
        "outputId": "b937e688-2692-4e9e-c442-1b2c335aa8b0"
      },
      "source": [
        "#the + attaches another value to the variable\n",
        "print(Namethisvariable + \"Videos\")\n"
      ],
      "execution_count": null,
      "outputs": [
        {
          "output_type": "stream",
          "text": [
            "WWW.Youtube.comVideos\n"
          ],
          "name": "stdout"
        }
      ]
    },
    {
      "cell_type": "code",
      "metadata": {
        "colab": {
          "base_uri": "https://localhost:8080/"
        },
        "id": "PWuFSpTXvBCy",
        "outputId": "7edfa770-041f-40a6-fddd-dda4c0232901"
      },
      "source": [
        "#/ adds a specific website link\n",
        "print(Namethisvariable + \"/Videos\")\n"
      ],
      "execution_count": null,
      "outputs": [
        {
          "output_type": "stream",
          "text": [
            "WWW.Youtube.com/Videos\n"
          ],
          "name": "stdout"
        }
      ]
    },
    {
      "cell_type": "code",
      "metadata": {
        "id": "sY4uZ5unvoz7"
      },
      "source": [
        "#Create an empty line code \"\\n\"\n",
        "empty_lines = \"\\n\""
      ],
      "execution_count": null,
      "outputs": []
    },
    {
      "cell_type": "code",
      "metadata": {
        "colab": {
          "base_uri": "https://localhost:8080/"
        },
        "id": "XNakQX2Uv8MO",
        "outputId": "819c927f-cf3e-4123-bff1-cb99f10699b9"
      },
      "source": [
        "print(empty_lines)"
      ],
      "execution_count": null,
      "outputs": [
        {
          "output_type": "stream",
          "text": [
            "\n",
            "\n"
          ],
          "name": "stdout"
        }
      ]
    },
    {
      "cell_type": "code",
      "metadata": {
        "id": "mKiEVEzTwDdC"
      },
      "source": [
        "myfavoritemovies= \"Magnolia, Fast & Furious, Star Wars\""
      ],
      "execution_count": null,
      "outputs": []
    },
    {
      "cell_type": "code",
      "metadata": {
        "id": "8SBqLtTHwONc"
      },
      "source": [
        "myfavoriteshows= \"The Wire, Game of Thrones, Dexter\""
      ],
      "execution_count": null,
      "outputs": []
    },
    {
      "cell_type": "code",
      "metadata": {
        "colab": {
          "base_uri": "https://localhost:8080/"
        },
        "id": "JLcFMm1PweWC",
        "outputId": "4660bd0a-a159-46e4-d1ff-79474b180ec7"
      },
      "source": [
        "print(myfavoritemovies)\n",
        "print(empty_lines)\n",
        "print(myfavoriteshows)"
      ],
      "execution_count": null,
      "outputs": [
        {
          "output_type": "stream",
          "text": [
            "Magnolia, Fast & Furious, Star Wars\n",
            "\n",
            "\n",
            "The Wire, Game of Thrones, Dexter\n"
          ],
          "name": "stdout"
        }
      ]
    },
    {
      "cell_type": "code",
      "metadata": {
        "colab": {
          "base_uri": "https://localhost:8080/"
        },
        "id": "Rm59gIEtwqud",
        "outputId": "db0e85fa-c5b1-4f68-8100-725d604bd99d"
      },
      "source": [
        "print(\"Dadrian Morgan\")"
      ],
      "execution_count": null,
      "outputs": [
        {
          "output_type": "stream",
          "text": [
            "Dadrian Morgan\n"
          ],
          "name": "stdout"
        }
      ]
    },
    {
      "cell_type": "code",
      "metadata": {
        "colab": {
          "base_uri": "https://localhost:8080/"
        },
        "id": "JZ-cuzYEww1b",
        "outputId": "af3b65dc-5698-4c4f-ffa2-3f8bfc4cdacc"
      },
      "source": [
        "#\\n creates a space\n",
        "print(\"Dadrian\\nMorgan\")"
      ],
      "execution_count": null,
      "outputs": [
        {
          "output_type": "stream",
          "text": [
            "Dadrian\n",
            "Morgan\n"
          ],
          "name": "stdout"
        }
      ]
    },
    {
      "cell_type": "code",
      "metadata": {
        "id": "Jb0rbfyZw6yC"
      },
      "source": [
        "Car = \"Mustang\""
      ],
      "execution_count": null,
      "outputs": []
    },
    {
      "cell_type": "code",
      "metadata": {
        "colab": {
          "base_uri": "https://localhost:8080/",
          "height": 35
        },
        "id": "6i9B-o5IxERc",
        "outputId": "7c3b6c3a-5806-4173-82da-13ab49310c69"
      },
      "source": [
        "Car"
      ],
      "execution_count": null,
      "outputs": [
        {
          "output_type": "execute_result",
          "data": {
            "application/vnd.google.colaboratory.intrinsic+json": {
              "type": "string"
            },
            "text/plain": [
              "'Mustang'"
            ]
          },
          "metadata": {
            "tags": []
          },
          "execution_count": 42
        }
      ]
    },
    {
      "cell_type": "code",
      "metadata": {
        "colab": {
          "base_uri": "https://localhost:8080/"
        },
        "id": "9ymSjndVxNcW",
        "outputId": "6e7d33cd-ec50-4b4f-8617-3aa999d53206"
      },
      "source": [
        "#type function tells us what the data type of the Car is \n",
        "type(Car)"
      ],
      "execution_count": null,
      "outputs": [
        {
          "output_type": "execute_result",
          "data": {
            "text/plain": [
              "str"
            ]
          },
          "metadata": {
            "tags": []
          },
          "execution_count": 43
        }
      ]
    },
    {
      "cell_type": "code",
      "metadata": {
        "id": "yRGAlgrGxbBq"
      },
      "source": [
        "Mustang_Year = 2021"
      ],
      "execution_count": null,
      "outputs": []
    },
    {
      "cell_type": "code",
      "metadata": {
        "colab": {
          "base_uri": "https://localhost:8080/"
        },
        "id": "XFHUVAwsxswp",
        "outputId": "91d97e13-06a3-4542-c897-5685301fa71d"
      },
      "source": [
        "type(Mustang_Year)"
      ],
      "execution_count": null,
      "outputs": [
        {
          "output_type": "execute_result",
          "data": {
            "text/plain": [
              "int"
            ]
          },
          "metadata": {
            "tags": []
          },
          "execution_count": 45
        }
      ]
    },
    {
      "cell_type": "code",
      "metadata": {
        "colab": {
          "base_uri": "https://localhost:8080/",
          "height": 35
        },
        "id": "FjK6r5WOx4Ej",
        "outputId": "bf04fc47-6843-4917-b4b2-b7f028ea5668"
      },
      "source": [
        "#Now I want to show you how to access Strings in a Variable \n",
        "#Remember Python starts from 0 not 1\n",
        "Car[0]"
      ],
      "execution_count": null,
      "outputs": [
        {
          "output_type": "execute_result",
          "data": {
            "application/vnd.google.colaboratory.intrinsic+json": {
              "type": "string"
            },
            "text/plain": [
              "'M'"
            ]
          },
          "metadata": {
            "tags": []
          },
          "execution_count": 46
        }
      ]
    },
    {
      "cell_type": "code",
      "metadata": {
        "colab": {
          "base_uri": "https://localhost:8080/",
          "height": 35
        },
        "id": "BYCAG41dyPkd",
        "outputId": "2da05a23-d20e-4bcd-9dde-62cd95e382bb"
      },
      "source": [
        "Car[4]"
      ],
      "execution_count": null,
      "outputs": [
        {
          "output_type": "execute_result",
          "data": {
            "application/vnd.google.colaboratory.intrinsic+json": {
              "type": "string"
            },
            "text/plain": [
              "'a'"
            ]
          },
          "metadata": {
            "tags": []
          },
          "execution_count": 47
        }
      ]
    },
    {
      "cell_type": "code",
      "metadata": {
        "colab": {
          "base_uri": "https://localhost:8080/"
        },
        "id": "nY3b9pT1yVkn",
        "outputId": "fce9db5c-ff3d-4bbd-f17a-1c32abe2671c"
      },
      "source": [
        "#The len function shows us the length of variable\n",
        "print(len(Car))"
      ],
      "execution_count": null,
      "outputs": [
        {
          "output_type": "stream",
          "text": [
            "7\n"
          ],
          "name": "stdout"
        }
      ]
    },
    {
      "cell_type": "code",
      "metadata": {
        "id": "cdZlgg8Iyi5D"
      },
      "source": [
        "#In variables the words must connect with no spaces\n",
        "#Underscores are commonly used\n",
        "Foreign_Cars = Car + \"Benz, Beamer\""
      ],
      "execution_count": null,
      "outputs": []
    },
    {
      "cell_type": "code",
      "metadata": {
        "colab": {
          "base_uri": "https://localhost:8080/",
          "height": 35
        },
        "id": "sK2vgr6Sz77M",
        "outputId": "e2a87c46-5f33-414c-d4a9-498c7b079e9d"
      },
      "source": [
        "Foreign_Cars"
      ],
      "execution_count": null,
      "outputs": [
        {
          "output_type": "execute_result",
          "data": {
            "application/vnd.google.colaboratory.intrinsic+json": {
              "type": "string"
            },
            "text/plain": [
              "'MustangBenz, Beamer'"
            ]
          },
          "metadata": {
            "tags": []
          },
          "execution_count": 50
        }
      ]
    },
    {
      "cell_type": "code",
      "metadata": {
        "id": "ElhjlE3Fz_Lx"
      },
      "source": [
        "#We notice in other examples stuff are too close\n",
        "#We add quotations to give space\n",
        "Foreign_Cars = Car + ',' + \"Benz, Beamer\""
      ],
      "execution_count": null,
      "outputs": []
    },
    {
      "cell_type": "code",
      "metadata": {
        "colab": {
          "base_uri": "https://localhost:8080/",
          "height": 35
        },
        "id": "HXOLAP-r0aBz",
        "outputId": "c80c9453-faee-4a93-f064-06e979fba43d"
      },
      "source": [
        "#We notice in other examples stuff are too close\n",
        "#We add quotations to give space\n",
        "Foreign_Cars"
      ],
      "execution_count": null,
      "outputs": [
        {
          "output_type": "execute_result",
          "data": {
            "application/vnd.google.colaboratory.intrinsic+json": {
              "type": "string"
            },
            "text/plain": [
              "'Mustang,Benz, Beamer'"
            ]
          },
          "metadata": {
            "tags": []
          },
          "execution_count": 52
        }
      ]
    },
    {
      "cell_type": "code",
      "metadata": {
        "id": "L_Ha8o-P0vbE"
      },
      "source": [
        "#Less format a little bit better and a coma\n",
        "Foreign_Cars = Car + ',' + \"Benz, Beamer\""
      ],
      "execution_count": null,
      "outputs": []
    },
    {
      "cell_type": "code",
      "metadata": {
        "colab": {
          "base_uri": "https://localhost:8080/",
          "height": 35
        },
        "id": "Bc2hufYZ1kqT",
        "outputId": "5c65e5ab-084f-4916-d863-996b70100f60"
      },
      "source": [
        "Foreign_Cars"
      ],
      "execution_count": null,
      "outputs": [
        {
          "output_type": "execute_result",
          "data": {
            "application/vnd.google.colaboratory.intrinsic+json": {
              "type": "string"
            },
            "text/plain": [
              "'Mustang,Benz, Beamer'"
            ]
          },
          "metadata": {
            "tags": []
          },
          "execution_count": 54
        }
      ]
    },
    {
      "cell_type": "code",
      "metadata": {
        "colab": {
          "base_uri": "https://localhost:8080/"
        },
        "id": "4NN43_Lz1oxr",
        "outputId": "48c60c6d-c98f-42eb-cdbb-308abdd151c7"
      },
      "source": [
        "#Now lets add strings with a variable aka concatenate strings\n",
        "print (\"My favorite cars are\" + Foreign_Cars)"
      ],
      "execution_count": null,
      "outputs": [
        {
          "output_type": "stream",
          "text": [
            "My favorite cars areMustang,Benz, Beamer\n"
          ],
          "name": "stdout"
        }
      ]
    },
    {
      "cell_type": "code",
      "metadata": {
        "colab": {
          "base_uri": "https://localhost:8080/"
        },
        "id": "vWPBcli_182x",
        "outputId": "9ebf0655-a4b7-4ee7-80a5-313341a7d928"
      },
      "source": [
        "#This strings are to close\n",
        "#\"\" Signifies space and he space you put between dictates the distance\n",
        "print (\"My favorite cars are\" +\"\" + Foreign_Cars)"
      ],
      "execution_count": null,
      "outputs": [
        {
          "output_type": "stream",
          "text": [
            "My favorite cars areMustang,Benz, Beamer\n"
          ],
          "name": "stdout"
        }
      ]
    },
    {
      "cell_type": "code",
      "metadata": {
        "colab": {
          "base_uri": "https://localhost:8080/"
        },
        "id": "wZEksTcY4P1_",
        "outputId": "af591d94-cd7c-40e7-9053-dbd7596ff511"
      },
      "source": [
        "#You notice I added a little more space between quotations\n",
        "print (\"My favorite car are\" +\"\" + Foreign_Cars)"
      ],
      "execution_count": null,
      "outputs": [
        {
          "output_type": "stream",
          "text": [
            "My favorite car areMustang,Benz, Beamer\n"
          ],
          "name": "stdout"
        }
      ]
    },
    {
      "cell_type": "code",
      "metadata": {
        "colab": {
          "base_uri": "https://localhost:8080/"
        },
        "id": "ZHXMCsPk4unI",
        "outputId": "95c1cb0d-b8f1-467c-e22d-c3fd04e9569e"
      },
      "source": [
        "#Now I want to add a period\n",
        "print (\"My favorite cars are\" +\" \" + Foreign_Cars)"
      ],
      "execution_count": null,
      "outputs": [
        {
          "output_type": "stream",
          "text": [
            "My favorite cars are Mustang,Benz, Beamer\n"
          ],
          "name": "stdout"
        }
      ]
    },
    {
      "cell_type": "code",
      "metadata": {
        "colab": {
          "base_uri": "https://localhost:8080/"
        },
        "id": "nj2bhegx5EfL",
        "outputId": "55821862-3634-4d5d-ce2d-b02376b998eb"
      },
      "source": [
        "#Now I want to show you how to plug variables\n",
        "#{} the brackets are where we want to plug variables inside\n",
        "Dealership = \"I want to buy a {} White {}!\"\n",
        "print(Dealership.format(Mustang_Year, Car))"
      ],
      "execution_count": null,
      "outputs": [
        {
          "output_type": "stream",
          "text": [
            "I want to buy a 2021 White Mustang!\n"
          ],
          "name": "stdout"
        }
      ]
    },
    {
      "cell_type": "code",
      "metadata": {
        "colab": {
          "base_uri": "https://localhost:8080/"
        },
        "id": "A1N312YEW6eC",
        "outputId": "60318f9c-a163-4a63-c063-8a07bbf38c5d"
      },
      "source": [
        "Brand = \"Jordans\"\n",
        "cost = 120\n",
        "Shoes = \"I want the new {} that are ${}!\"\n",
        "print(Shoes.format(Brand, cost))"
      ],
      "execution_count": null,
      "outputs": [
        {
          "output_type": "stream",
          "text": [
            "I want the new Jordans that are $120!\n"
          ],
          "name": "stdout"
        }
      ]
    },
    {
      "cell_type": "code",
      "metadata": {
        "colab": {
          "base_uri": "https://localhost:8080/"
        },
        "id": "AS4V1TUZXcpL",
        "outputId": "3cbde19e-060c-405c-fbc9-c24228a4298b"
      },
      "source": [
        "Outro = \"please follow me to Linkedin and give me a positive review!\"\n",
        "print (\"Thank you \"  + \"\" + Outro)"
      ],
      "execution_count": null,
      "outputs": [
        {
          "output_type": "stream",
          "text": [
            "Thank you please follow me to Linkedin and give me a positive review!\n"
          ],
          "name": "stdout"
        }
      ]
    },
    {
      "cell_type": "markdown",
      "metadata": {
        "id": "yZf_p86b2LMJ"
      },
      "source": [
        ""
      ]
    }
  ]
}